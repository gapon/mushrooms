{
 "cells": [
  {
   "cell_type": "markdown",
   "metadata": {},
   "source": [
    "# Data Preparation"
   ]
  },
  {
   "cell_type": "code",
   "execution_count": 1,
   "metadata": {
    "collapsed": true
   },
   "outputs": [],
   "source": [
    "import os, sys\n",
    "from glob import glob\n",
    "import numpy as np\n",
    "from shutil import copyfile\n",
    "path = 'data/sample/'"
   ]
  },
  {
   "cell_type": "markdown",
   "metadata": {},
   "source": [
    "### Get categories"
   ]
  },
  {
   "cell_type": "code",
   "execution_count": 2,
   "metadata": {
    "collapsed": true
   },
   "outputs": [],
   "source": [
    "categories = os.listdir(path + 'train')\n",
    "if '.DS_Store' in categories: categories.remove('.DS_Store')\n",
    "\n",
    "bash_categories = ''\n",
    "for c in categories:\n",
    "    bash_categories += c + ' '"
   ]
  },
  {
   "cell_type": "markdown",
   "metadata": {},
   "source": [
    "### Create validation and test folders"
   ]
  },
  {
   "cell_type": "code",
   "execution_count": 5,
   "metadata": {
    "collapsed": true
   },
   "outputs": [],
   "source": [
    "%%bash -s \"$bash_categories\"\n",
    "for dir in $1\n",
    "do\n",
    "    mkdir -p data/valid/$dir\n",
    "    mkdir -p data/model\n",
    "    mkdir -p data/sample/train/$dir\n",
    "    mkdir -p data/sample/valid/$dir\n",
    "    mkdir -p data/sample/test/$dir\n",
    "    mkdir -p data/sample/model\n",
    "done"
   ]
  },
  {
   "cell_type": "markdown",
   "metadata": {},
   "source": [
    "### Rename JPG to jpg"
   ]
  },
  {
   "cell_type": "code",
   "execution_count": 90,
   "metadata": {},
   "outputs": [
    {
     "name": "stderr",
     "output_type": "stream",
     "text": [
      "mv: rename *.JPG to *.jpg: No such file or directory\n",
      "mv: rename *.JPG to *.jpg: No such file or directory\n",
      "mv: rename *.JPG to *.jpg: No such file or directory\n",
      "mv: rename *.JPG to *.jpg: No such file or directory\n",
      "mv: rename *.JPG to *.jpg: No such file or directory\n",
      "mv: rename *.JPG to *.jpg: No such file or directory\n",
      "mv: rename *.JPG to *.jpg: No such file or directory\n",
      "mv: rename *.JPG to *.jpg: No such file or directory\n",
      "mv: rename *.JPG to *.jpg: No such file or directory\n"
     ]
    }
   ],
   "source": [
    "%%bash\n",
    "for dir in blednaya_poganka panter_muhomor podgruzdok_cherny red_muhomor syroegka_berezovaya false_lisichka gruzd_cherny lisichka white;\n",
    "    do cd ~/work/mushrooms/data/train/$dir\n",
    "    for f in *.JPG; \n",
    "        do mv \"$f\" \"${f/.JPG/}.jpg\"\n",
    "    done\n",
    "done"
   ]
  },
  {
   "cell_type": "markdown",
   "metadata": {},
   "source": [
    "### Create sample"
   ]
  },
  {
   "cell_type": "code",
   "execution_count": 20,
   "metadata": {
    "collapsed": true
   },
   "outputs": [],
   "source": [
    "#g = [p[5:] for p in glob(path + 'train/*/*.jpg')]\n",
    "g = glob(path + 'train/*/*.jpg')\n",
    "shuf = np.random.permutation(g)\n",
    "\n",
    "for i in range(1000):\n",
    "    copyfile(shuf[i], 'data/sample/' + shuf[i][5:])"
   ]
  },
  {
   "cell_type": "markdown",
   "metadata": {},
   "source": [
    "### Create validation set"
   ]
  },
  {
   "cell_type": "code",
   "execution_count": 26,
   "metadata": {
    "collapsed": true
   },
   "outputs": [],
   "source": [
    "val_size = 0.2\n",
    "\n",
    "g = glob(path + 'train/*/*.jpg')\n",
    "shuf = np.random.permutation(g)\n",
    "val = round(len(shuf)*val_size)\n",
    "\n",
    "for i in range(val):\n",
    "    os.rename(shuf[i], path + 'valid/' + shuf[i].replace(path + 'train',''))"
   ]
  },
  {
   "cell_type": "markdown",
   "metadata": {},
   "source": [
    "### Create sample test set"
   ]
  },
  {
   "cell_type": "code",
   "execution_count": 6,
   "metadata": {},
   "outputs": [],
   "source": [
    "#tst_size = 0.05\n",
    "\n",
    "g = glob('data/train/*/*.jpg')\n",
    "shuf = np.random.permutation(g)\n",
    "# data/train/panter_muhomor/Amanita-pantherina-8-1.jpg\n",
    "for i in range(400):\n",
    "    copyfile(shuf[i], 'data/sample/test/' + shuf[i].replace('data/train/',''))"
   ]
  },
  {
   "cell_type": "code",
   "execution_count": null,
   "metadata": {
    "collapsed": true
   },
   "outputs": [],
   "source": []
  }
 ],
 "metadata": {
  "kernelspec": {
   "display_name": "Python 3",
   "language": "python",
   "name": "python3"
  },
  "language_info": {
   "codemirror_mode": {
    "name": "ipython",
    "version": 3
   },
   "file_extension": ".py",
   "mimetype": "text/x-python",
   "name": "python",
   "nbconvert_exporter": "python",
   "pygments_lexer": "ipython3",
   "version": "3.5.3"
  }
 },
 "nbformat": 4,
 "nbformat_minor": 2
}
